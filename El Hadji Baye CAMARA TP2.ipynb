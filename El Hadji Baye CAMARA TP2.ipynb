{
 "cells": [
  {
   "cell_type": "code",
   "execution_count": 23,
   "id": "20a8a503-abab-44cf-a104-7bb1bd21cc17",
   "metadata": {},
   "outputs": [],
   "source": [
    "# Exercise 1\n",
    "\n",
    "text = \"Python is amazing!\""
   ]
  },
  {
   "cell_type": "code",
   "execution_count": 25,
   "id": "2b1570eb-ee59-462b-a47c-8f69f6a7e696",
   "metadata": {},
   "outputs": [],
   "source": [
    "# Exercise 3\n",
    "\n",
    "upper_text = \"python programming\".upper()"
   ]
  },
  {
   "cell_type": "code",
   "execution_count": 26,
   "id": "4bf6154f-74db-46af-b352-b772d4f1a8ca",
   "metadata": {},
   "outputs": [],
   "source": [
    "# Exercise 5\n",
    "\n",
    "greeting = \"Hello\" + \" \" + \"World\""
   ]
  },
  {
   "cell_type": "code",
   "execution_count": 27,
   "id": "a2a1764f-f4cc-48f5-a5cd-fd800ed29d95",
   "metadata": {},
   "outputs": [],
   "source": [
    "# Exercise 7\n",
    "\n",
    "fruits_list = \"apple,banana,orange\".split(\",\")"
   ]
  },
  {
   "cell_type": "code",
   "execution_count": 28,
   "id": "5664a494-1b80-4252-a95b-80670ce5a9ec",
   "metadata": {},
   "outputs": [],
   "source": [
    "# Exercise 8\n",
    "\n",
    "name = \"Alice\"\n",
    "age = 25\n",
    "sentence = f\"My name is {name} and I am {age} years old.\""
   ]
  },
  {
   "cell_type": "code",
   "execution_count": 29,
   "id": "ba4699ab-df2d-4ce4-92f7-66b344fac180",
   "metadata": {},
   "outputs": [],
   "source": [
    "# Exercise 9\n",
    "\n",
    "is_present = \"python\" in \"I love python programming\""
   ]
  },
  {
   "cell_type": "code",
   "execution_count": 30,
   "id": "0f6c8a45-0edf-4c37-a85a-7f568c510a76",
   "metadata": {},
   "outputs": [],
   "source": [
    "# Exercise 10\n",
    "\n",
    "text = \"Elephant is an elegant animal\"\n",
    "e_count = text.count(\"e\")"
   ]
  },
  {
   "cell_type": "code",
   "execution_count": 31,
   "id": "663459ce-3163-41fe-bd83-108781d88e8b",
   "metadata": {},
   "outputs": [],
   "source": [
    "# Exercise 11\n",
    "\n",
    "cleaned_text = \"   Data Science   \".strip()"
   ]
  },
  {
   "cell_type": "code",
   "execution_count": 32,
   "id": "d90c53b9-5e80-4a0e-9f22-1586704ac991",
   "metadata": {},
   "outputs": [],
   "source": [
    "# Exercise 12\n",
    "\n",
    "int_value = int(\"100\")"
   ]
  },
  {
   "cell_type": "code",
   "execution_count": 33,
   "id": "0fcd92f8-9dcd-4fac-84ed-9857a62dc046",
   "metadata": {},
   "outputs": [],
   "source": [
    "# Exercise 13\n",
    "\n",
    "substring = \"programming\"[0:3] "
   ]
  },
  {
   "cell_type": "code",
   "execution_count": 34,
   "id": "267acfa9-56c0-4941-80d3-97dd5a7a8541",
   "metadata": {},
   "outputs": [],
   "source": [
    "# Exercise 16\n",
    "\n",
    "capitalized_text = \"machine learning is fun\".title()"
   ]
  },
  {
   "cell_type": "code",
   "execution_count": 35,
   "id": "024459ab-d3fa-4fed-8ead-5d137b36e29d",
   "metadata": {},
   "outputs": [],
   "source": [
    "# Exercise 18\n",
    "\n",
    "with open(\"output.txt\", \"w\") as file:\n",
    "    file.write(\"This is a sample text.\")"
   ]
  },
  {
   "cell_type": "code",
   "execution_count": 36,
   "id": "5af8a70e-97d6-4060-a9a6-5cc4d5a515b9",
   "metadata": {},
   "outputs": [],
   "source": [
    "# Exercise 21\n",
    "\n",
    "with open(\"notes.txt\", \"a\") as file:\n",
    "    file.write(\"\\nThis is a new line\")"
   ]
  },
  {
   "cell_type": "code",
   "execution_count": 37,
   "id": "67dace25-3309-46ce-96cb-941aeef713dd",
   "metadata": {},
   "outputs": [],
   "source": [
    "# Exercise 28\n",
    "\n",
    "def count_lines(filename):\n",
    "    with open(filename, \"r\") as file:\n",
    "        return len(file.readlines())"
   ]
  },
  {
   "cell_type": "code",
   "execution_count": 41,
   "id": "2e558222-de34-4a09-880e-0a1f47c9276b",
   "metadata": {},
   "outputs": [],
   "source": [
    "# Exercice 38\n",
    "\n",
    "def write_lines_to_file(filename, lines):\n",
    "    with open(filename, \"w\") as file:\n",
    "        for line in lines:\n",
    "            file.write(line + \"\\n\")"
   ]
  },
  {
   "cell_type": "code",
   "execution_count": 45,
   "id": "18cfc196-4d41-4a7c-b99a-4ce0850ed19e",
   "metadata": {},
   "outputs": [],
   "source": [
    "# Exercice 23\n",
    "\n",
    "with open(\"report.txt\", \"w\") as file:\n",
    "    file.write(\"Data analysis report\")"
   ]
  },
  {
   "cell_type": "code",
   "execution_count": 55,
   "id": "cbf4a0e7-0f82-47ba-9b78-0c983f944acd",
   "metadata": {},
   "outputs": [],
   "source": [
    "# Exercise 33\n",
    "\n",
    "def print_longest_line(filename):\n",
    "    with open(filename, \"r\") as file:\n",
    "        longest = max(file, key=len)\n",
    "        print(longest.strip())"
   ]
  },
  {
   "cell_type": "code",
   "execution_count": 60,
   "id": "c484c88e-37ae-4cc3-ab96-e0dcbc5878b5",
   "metadata": {},
   "outputs": [],
   "source": [
    "# Exercise 36\n",
    "\n",
    "def is_file_empty(filename):\n",
    "    return os.path.exists(filename) and os.path.getsize(filename) == 0        "
   ]
  },
  {
   "cell_type": "code",
   "execution_count": null,
   "id": "08eb1af7-e0f1-41d4-9c2d-538a29640544",
   "metadata": {},
   "outputs": [],
   "source": []
  },
  {
   "cell_type": "code",
   "execution_count": null,
   "id": "aa3edcbd-506b-4393-8839-1cfd87cac2e4",
   "metadata": {},
   "outputs": [],
   "source": []
  },
  {
   "cell_type": "code",
   "execution_count": 24,
   "id": "25955bb6-ceef-4a4e-813c-8adffac100bb",
   "metadata": {},
   "outputs": [],
   "source": [
    "# Exercise 2\n",
    "\n",
    "length = len(\"Hello, World!\")"
   ]
  }
 ],
 "metadata": {
  "kernelspec": {
   "display_name": "Python [conda env:base] *",
   "language": "python",
   "name": "conda-base-py"
  },
  "language_info": {
   "codemirror_mode": {
    "name": "ipython",
    "version": 3
   },
   "file_extension": ".py",
   "mimetype": "text/x-python",
   "name": "python",
   "nbconvert_exporter": "python",
   "pygments_lexer": "ipython3",
   "version": "3.12.7"
  }
 },
 "nbformat": 4,
 "nbformat_minor": 5
}
