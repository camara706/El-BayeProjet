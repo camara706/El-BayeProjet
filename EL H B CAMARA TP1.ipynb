{
 "cells": [
  {
   "cell_type": "code",
   "execution_count": 10,
   "id": "04ba6f4e-56b0-4d62-9176-b60c3495bbef",
   "metadata": {},
   "outputs": [],
   "source": [
    "#variable (' x ')\n",
    "x=10"
   ]
  },
  {
   "cell_type": "code",
   "execution_count": 2,
   "id": "df785a78-f8fc-45bb-b0ff-dee3700866cd",
   "metadata": {},
   "outputs": [],
   "source": [
    "is_valid = True"
   ]
  },
  {
   "cell_type": "code",
   "execution_count": 3,
   "id": "556f6d32-7b26-4582-9195-7073b8e3f63c",
   "metadata": {},
   "outputs": [],
   "source": [
    "name = \"Python Programming\""
   ]
  },
  {
   "cell_type": "code",
   "execution_count": 4,
   "id": "7ac3550d-c6c2-4a3b-916c-29fdd373ce22",
   "metadata": {},
   "outputs": [],
   "source": [
    "sum_result = 5 + 3"
   ]
  },
  {
   "cell_type": "code",
   "execution_count": 5,
   "id": "5f6fb4bf-b6d3-4b5b-92de-526b3d0d7c11",
   "metadata": {},
   "outputs": [],
   "source": [
    "a, b, c = 5, 10, 15"
   ]
  },
  {
   "cell_type": "code",
   "execution_count": 11,
   "id": "876bff54-d92e-4096-b91d-eb38e06da08d",
   "metadata": {},
   "outputs": [
    {
     "name": "stdout",
     "output_type": "stream",
     "text": [
      "x= 10\n",
      "is_valid = True\n",
      "name = Python Programming\n",
      "sum_result = 8\n",
      "a, b, c= 5 10 15\n"
     ]
    }
   ],
   "source": [
    "print(\"x=\", x)\n",
    "print(\"is_valid =\", is_valid)\n",
    "print(\"name =\", name)\n",
    "print(\"sum_result =\", sum_result)\n",
    "print(\"a, b, c=\", a, b, c)"
   ]
  },
  {
   "cell_type": "code",
   "execution_count": 12,
   "id": "4a6ed5f9-4d16-4c75-9b0a-f7a0db882071",
   "metadata": {},
   "outputs": [],
   "source": [
    "gravity = 9.8"
   ]
  },
  {
   "cell_type": "code",
   "execution_count": 14,
   "id": "8320071b-7b75-4e9a-a3c3-baf9aa66c34a",
   "metadata": {},
   "outputs": [],
   "source": [
    "country = \"senegal\""
   ]
  },
  {
   "cell_type": "code",
   "execution_count": null,
   "id": "c2ccc3a9-ebc3-48fd-90e3-68e910db1077",
   "metadata": {},
   "outputs": [],
   "source": [
    "age = 25\n",
    "age = 26"
   ]
  },
  {
   "cell_type": "code",
   "execution_count": 15,
   "id": "09cae01d-df89-4519-b28f-25b98f1fcbe1",
   "metadata": {},
   "outputs": [],
   "source": [
    "result = 20 - 7"
   ]
  },
  {
   "cell_type": "code",
   "execution_count": 16,
   "id": "f27f00b1-05a0-4444-937d-cd831f5926e7",
   "metadata": {},
   "outputs": [],
   "source": [
    "integer_value = 10\n",
    "float_value = 3.14 "
   ]
  },
  {
   "cell_type": "code",
   "execution_count": 17,
   "id": "c3b9a7e9-970c-49c9-96e5-8baab1f42adc",
   "metadata": {},
   "outputs": [],
   "source": [
    "is_completed = False"
   ]
  },
  {
   "cell_type": "code",
   "execution_count": 18,
   "id": "8bb49aed-d54d-493f-9d06-519e345bc19d",
   "metadata": {},
   "outputs": [
    {
     "name": "stdout",
     "output_type": "stream",
     "text": [
      "x = 10\n",
      "y = 5\n"
     ]
    }
   ],
   "source": [
    "x = 5\n",
    "y =10\n",
    "#swap the values\n",
    "x, y, = y, x\n",
    "print(\"x =\", x)\n",
    "print(\"y =\", y)"
   ]
  },
  {
   "cell_type": "code",
   "execution_count": 22,
   "id": "c43d9dcc-cfcc-4a3d-9033-4fbd28cf4f6c",
   "metadata": {},
   "outputs": [],
   "source": [
    "complex_num = 3 + 4j"
   ]
  },
  {
   "cell_type": "code",
   "execution_count": 23,
   "id": "6f782b67-9fad-4d2c-9bc3-f342948c4708",
   "metadata": {},
   "outputs": [
    {
     "name": "stdout",
     "output_type": "stream",
     "text": [
      "Hello\n",
      "<class 'str'>\n"
     ]
    }
   ],
   "source": [
    "x = 10\n",
    "x = \"Hello\"\n",
    "print(x)\n",
    "print(type(x))"
   ]
  },
  {
   "cell_type": "code",
   "execution_count": 24,
   "id": "0dcf83ac-dccc-4e0f-bd5b-22fe4e729fb1",
   "metadata": {},
   "outputs": [],
   "source": [
    "tirst_name = \"EL Hadji BAYE\"\n",
    "last_name = \"Camara\""
   ]
  },
  {
   "cell_type": "code",
   "execution_count": 25,
   "id": "74738379-36c0-4617-a326-27e70837409b",
   "metadata": {},
   "outputs": [],
   "source": [
    "temperature = 35.5"
   ]
  },
  {
   "cell_type": "code",
   "execution_count": 26,
   "id": "730976b9-1424-4553-87f6-8b8098996748",
   "metadata": {},
   "outputs": [],
   "source": [
    "product = 8 * 6"
   ]
  },
  {
   "cell_type": "code",
   "execution_count": 27,
   "id": "513de75a-75ea-4517-ad10-7f6f84adcc2f",
   "metadata": {},
   "outputs": [],
   "source": [
    "sentence = \" Python est un langage de programmation puissant\" "
   ]
  },
  {
   "cell_type": "code",
   "execution_count": 28,
   "id": "0ad44c35-0434-41e1-8d29-9a8411ae96b4",
   "metadata": {},
   "outputs": [],
   "source": [
    "int_value = int('50')"
   ]
  },
  {
   "cell_type": "code",
   "execution_count": 29,
   "id": "a997e1dd-4434-43bd-b215-626a59451ee5",
   "metadata": {},
   "outputs": [],
   "source": [
    "quotient = 144/12"
   ]
  },
  {
   "cell_type": "code",
   "execution_count": null,
   "id": "9b542e67-e92c-4647-b877-1e8be32fa9f1",
   "metadata": {},
   "outputs": [],
   "source": [
    "remainder = 47 % 5"
   ]
  },
  {
   "cell_type": "code",
   "execution_count": 30,
   "id": "eb03e8e3-c759-4477-997c-9e76f3f4e868",
   "metadata": {},
   "outputs": [],
   "source": [
    "is_student = True"
   ]
  },
  {
   "cell_type": "code",
   "execution_count": 31,
   "id": "44e42949-19d4-4b84-a43b-3779972ff873",
   "metadata": {},
   "outputs": [],
   "source": [
    "mod_result = 45 % 4"
   ]
  },
  {
   "cell_type": "code",
   "execution_count": 32,
   "id": "4802b64b-e837-4a50-b23c-f5e1006bb8db",
   "metadata": {},
   "outputs": [],
   "source": [
    "pi = 3.14159"
   ]
  },
  {
   "cell_type": "code",
   "execution_count": 33,
   "id": "4294631e-5baf-4dce-90c4-6703d42e98fc",
   "metadata": {},
   "outputs": [],
   "source": [
    "length = 10\n",
    "width = 5\n",
    "area = length * width"
   ]
  },
  {
   "cell_type": "code",
   "execution_count": 34,
   "id": "32ff6c9c-8a13-453d-aff1-9ebbb0262b79",
   "metadata": {},
   "outputs": [],
   "source": [
    "negative_value = -12"
   ]
  },
  {
   "cell_type": "code",
   "execution_count": 35,
   "id": "5aec489d-e820-46f1-9bd8-e86c9cbe30f4",
   "metadata": {},
   "outputs": [],
   "source": [
    "greeting = \"Hello, World!\""
   ]
  },
  {
   "cell_type": "code",
   "execution_count": 36,
   "id": "e41970ff-bd1a-4ab1-b7c2-a4a03ae6ee83",
   "metadata": {},
   "outputs": [],
   "source": [
    "population = 8_000_000_000"
   ]
  },
  {
   "cell_type": "code",
   "execution_count": 37,
   "id": "0697f673-ba0e-4478-a8ec-befe652fb981",
   "metadata": {},
   "outputs": [],
   "source": [
    "power_result = 2 ** 8"
   ]
  },
  {
   "cell_type": "code",
   "execution_count": 38,
   "id": "3d703548-ffc6-474f-aed1-66f66c394099",
   "metadata": {},
   "outputs": [],
   "source": [
    "fruits = [\"apple\", \"banana\", \"mango\"]"
   ]
  },
  {
   "cell_type": "code",
   "execution_count": 39,
   "id": "b04f996e-fb75-463a-b725-042caaf581d7",
   "metadata": {},
   "outputs": [],
   "source": [
    "coordinates = (10, 20, 30)"
   ]
  },
  {
   "cell_type": "code",
   "execution_count": 40,
   "id": "30f822c3-4781-45b2-846d-0ae9acc5289d",
   "metadata": {},
   "outputs": [],
   "source": [
    "person = {\"name\": \"Alice\", \"age\": 30}"
   ]
  },
  {
   "cell_type": "code",
   "execution_count": 41,
   "id": "967350f7-c978-423a-b32c-91cae52d5b07",
   "metadata": {},
   "outputs": [],
   "source": [
    "num1 = 5.7\n",
    "num2 = 3.3\n",
    "sum_result = num1 + num2"
   ]
  },
  {
   "cell_type": "code",
   "execution_count": 42,
   "id": "e0eab275-8ebf-453c-b1e2-938c698af140",
   "metadata": {},
   "outputs": [],
   "source": [
    "is_sunny = 10 > 5"
   ]
  },
  {
   "cell_type": "code",
   "execution_count": 43,
   "id": "8d39e0f8-b299-49c2-bea2-59e83da795ec",
   "metadata": {},
   "outputs": [
    {
     "name": "stdout",
     "output_type": "stream",
     "text": [
      "The number is 42\n"
     ]
    }
   ],
   "source": [
    "message = \"The number is\"\n",
    "number = 42\n",
    "print(message, number)"
   ]
  },
  {
   "cell_type": "code",
   "execution_count": 44,
   "id": "ccff6a65-d6a5-4f74-8084-966b3f12849e",
   "metadata": {},
   "outputs": [],
   "source": [
    "value = 100\n",
    "value = True"
   ]
  },
  {
   "cell_type": "code",
   "execution_count": 45,
   "id": "f1d6f761-2ad3-4460-848b-93632481b8f2",
   "metadata": {},
   "outputs": [],
   "source": [
    "is_weekend = False"
   ]
  },
  {
   "cell_type": "code",
   "execution_count": 46,
   "id": "f2b706f4-568f-4360-8052-daf2013b6041",
   "metadata": {},
   "outputs": [],
   "source": [
    "description = \"\"\"This is a multi-line string.\n",
    "It spans several lines.\n",
    "Useful for long texts.\"\"\""
   ]
  },
  {
   "cell_type": "code",
   "execution_count": 47,
   "id": "8c5e201a-106f-453e-9187-697fde146237",
   "metadata": {},
   "outputs": [],
   "source": [
    "absolute_value = abs(-25)"
   ]
  },
  {
   "cell_type": "code",
   "execution_count": 48,
   "id": "e06ffef6-7551-4d2f-afae-5d0f177e7009",
   "metadata": {},
   "outputs": [],
   "source": [
    "floor_div_result = 100 // 6"
   ]
  },
  {
   "cell_type": "code",
   "execution_count": 49,
   "id": "0a0191e6-6436-4aaf-9b63-bce8f06a9711",
   "metadata": {},
   "outputs": [],
   "source": [
    "mixed_sum = 10 + 3.5"
   ]
  },
  {
   "cell_type": "code",
   "execution_count": 50,
   "id": "c4656539-6a8f-43b0-8f20-fb26a0c7471f",
   "metadata": {},
   "outputs": [],
   "source": [
    "a = 10\n",
    "b = 15\n",
    "is_a_less_than_b = a < b"
   ]
  },
  {
   "cell_type": "code",
   "execution_count": 51,
   "id": "d2a1957f-5830-40fd-9dfe-6daaf5c6e288",
   "metadata": {},
   "outputs": [],
   "source": [
    "sentence = \"This is a long sentence used for counting characters.\"\n",
    "char_count = len(sentence)"
   ]
  },
  {
   "cell_type": "code",
   "execution_count": 52,
   "id": "6bb8c80a-c533-461c-a902-bb3101ad27a2",
   "metadata": {},
   "outputs": [],
   "source": [
    "division_result = 7 / 3"
   ]
  },
  {
   "cell_type": "code",
   "execution_count": 53,
   "id": "37ff466b-48e9-44ef-a955-0a85d24c8413",
   "metadata": {},
   "outputs": [],
   "source": [
    "speed = 100"
   ]
  },
  {
   "cell_type": "code",
   "execution_count": 54,
   "id": "4d21bcef-736c-49b2-8e7c-2d9d36739d1b",
   "metadata": {},
   "outputs": [],
   "source": [
    "x = 4\n",
    "y = 3 * x + 5"
   ]
  },
  {
   "cell_type": "code",
   "execution_count": 55,
   "id": "de486237-ef5a-4e7c-8c06-c920e988ef95",
   "metadata": {},
   "outputs": [],
   "source": [
    "n1 = 10\n",
    "n2 = 20\n",
    "n3 = 30\n",
    "average = (n1 + n2 + n3) / 3"
   ]
  },
  {
   "cell_type": "code",
   "execution_count": null,
   "id": "4b875ed9-02cf-43e9-a634-d73ed2e11e6c",
   "metadata": {},
   "outputs": [],
   "source": []
  }
 ],
 "metadata": {
  "kernelspec": {
   "display_name": "Python [conda env:base] *",
   "language": "python",
   "name": "conda-base-py"
  },
  "language_info": {
   "codemirror_mode": {
    "name": "ipython",
    "version": 3
   },
   "file_extension": ".py",
   "mimetype": "text/x-python",
   "name": "python",
   "nbconvert_exporter": "python",
   "pygments_lexer": "ipython3",
   "version": "3.12.7"
  }
 },
 "nbformat": 4,
 "nbformat_minor": 5
}
