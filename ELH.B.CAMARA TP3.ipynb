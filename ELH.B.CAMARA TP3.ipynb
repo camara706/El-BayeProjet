{
 "cells": [
  {
   "cell_type": "code",
   "execution_count": 1,
   "id": "b0578297-e26c-464c-9b42-e6a802729998",
   "metadata": {},
   "outputs": [],
   "source": [
    "list1 = list(range(1, 11))"
   ]
  },
  {
   "cell_type": "code",
   "execution_count": 2,
   "id": "d145aca8-4798-46a0-929d-16049a430566",
   "metadata": {},
   "outputs": [],
   "source": [
    "fruits_tuple = (\"apple\", \"banana\", \"cherry\")"
   ]
  },
  {
   "cell_type": "code",
   "execution_count": 3,
   "id": "58828ffa-2043-4868-af95-4993de244889",
   "metadata": {},
   "outputs": [],
   "source": [
    "numbers = [10, 20, 30, 40]\n",
    "numbers_tuple = tuple(numbers)"
   ]
  },
  {
   "cell_type": "code",
   "execution_count": 4,
   "id": "2c413e2a-ef2a-4ca6-9717-46cef4c4c6b9",
   "metadata": {},
   "outputs": [],
   "source": [
    "num_set = {1, 2, 3, 4, 5}"
   ]
  },
  {
   "cell_type": "code",
   "execution_count": 5,
   "id": "a9ba5bc7-65be-4df1-a655-648c8da8ec74",
   "metadata": {},
   "outputs": [],
   "source": [
    "student = {\"name\": \"Alice\", \"age\": 20, \"grade\": \"A\"}"
   ]
  },
  {
   "cell_type": "code",
   "execution_count": 6,
   "id": "46271f77-901c-4b05-9b0f-4d3365c941ec",
   "metadata": {},
   "outputs": [],
   "source": [
    "element = [10, 20, 30, 40, 50][1]"
   ]
  },
  {
   "cell_type": "code",
   "execution_count": 7,
   "id": "8601ae78-9aae-473a-8a20-16dd3f43ad93",
   "metadata": {},
   "outputs": [],
   "source": [
    "fruits = [\"apple\", \"banana\", \"cherry\", \"orange\"]\n",
    "fruits[2] = \"mango\""
   ]
  },
  {
   "cell_type": "code",
   "execution_count": 8,
   "id": "35f88593-e0e5-408d-9f86-09dc8e9cc4d5",
   "metadata": {},
   "outputs": [],
   "source": [
    "numbers = {1, 2, 3, 4, 5}\n",
    "numbers.add(6)"
   ]
  },
  {
   "cell_type": "code",
   "execution_count": 9,
   "id": "c7ca094a-1d36-47ee-947d-2b84ef40c935",
   "metadata": {},
   "outputs": [
    {
     "data": {
      "text/plain": [
       "25"
      ]
     },
     "execution_count": 9,
     "metadata": {},
     "output_type": "execute_result"
    }
   ],
   "source": [
    "person = {\"name\": \"John\", \"age\": 25, \"city\": \"New York\"}\n",
    "person.pop(\"age\")"
   ]
  },
  {
   "cell_type": "code",
   "execution_count": 10,
   "id": "d114b51a-863e-4794-86d2-51c5d29de531",
   "metadata": {},
   "outputs": [],
   "source": [
    "r = range(0, 10)"
   ]
  },
  {
   "cell_type": "code",
   "execution_count": 11,
   "id": "c7cd0fd0-61df-4dc5-892b-7793d720b57a",
   "metadata": {},
   "outputs": [],
   "source": [
    "squares = [x**2 for x in range(1, 11)]"
   ]
  },
  {
   "cell_type": "code",
   "execution_count": 12,
   "id": "eafd8924-bb43-4a70-aa88-93041715da1b",
   "metadata": {},
   "outputs": [],
   "source": [
    "evens = tuple(x for x in range(2, 11, 2))"
   ]
  },
  {
   "cell_type": "code",
   "execution_count": 13,
   "id": "6b8241d9-13a4-4d91-835a-f2370595389e",
   "metadata": {},
   "outputs": [
    {
     "name": "stdout",
     "output_type": "stream",
     "text": [
      "apple\n",
      "banana\n",
      "cherry\n"
     ]
    }
   ],
   "source": [
    "fruits = [\"apple\", \"banana\", \"cherry\"]\n",
    "for fruit in fruits:\n",
    "    print(fruit)"
   ]
  },
  {
   "cell_type": "code",
   "execution_count": 14,
   "id": "8211231c-434a-47ba-a458-1b3052d291de",
   "metadata": {},
   "outputs": [],
   "source": [
    "numbers = {1, 2, 3, 4, 5}\n",
    "exists = 3 in numbers"
   ]
  },
  {
   "cell_type": "code",
   "execution_count": 15,
   "id": "e62a6fdb-7700-4ac3-bf80-7fb70c87b5f3",
   "metadata": {},
   "outputs": [],
   "source": [
    "scores = [80, 85, 90, 95]\n",
    "scores.append(100)"
   ]
  },
  {
   "cell_type": "code",
   "execution_count": 16,
   "id": "d242f60b-a4f2-48d5-93a3-619fd21aade5",
   "metadata": {},
   "outputs": [],
   "source": [
    "def sum_list(lst):\n",
    "    return sum(lst)"
   ]
  },
  {
   "cell_type": "code",
   "execution_count": 17,
   "id": "8e297737-db6d-4f39-bbe9-7a8eb560efea",
   "metadata": {},
   "outputs": [],
   "source": [
    "numbers = [1, 2, 2, 3, 4, 4, 5]\n",
    "unique_numbers = set(numbers)"
   ]
  },
  {
   "cell_type": "code",
   "execution_count": 18,
   "id": "01ae6ea2-2193-45a0-8ac4-4f67aa69355b",
   "metadata": {},
   "outputs": [],
   "source": [
    "char_list = list(\"hello\")"
   ]
  },
  {
   "cell_type": "code",
   "execution_count": 19,
   "id": "b1d88a07-8268-4da0-9749-0dfbb1813f34",
   "metadata": {},
   "outputs": [],
   "source": [
    "dict1 = {\"a\": 1, \"b\": 2}\n",
    "dict2 = {\"c\": 3, \"d\": 4}\n",
    "merged_dict = {**dict1, **dict2}"
   ]
  },
  {
   "cell_type": "code",
   "execution_count": 20,
   "id": "b8b4396f-4299-4acb-bb1c-aa6378430e43",
   "metadata": {},
   "outputs": [],
   "source": [
    "squares_dict = {i: i**2 for i in range(1, 6)}"
   ]
  },
  {
   "cell_type": "code",
   "execution_count": 21,
   "id": "29595001-dc7e-43fd-92b1-f51bfd51242f",
   "metadata": {},
   "outputs": [],
   "source": [
    "letters = [chr(i) for i in range(97, 102)]"
   ]
  },
  {
   "cell_type": "code",
   "execution_count": 22,
   "id": "2b0df4fd-628e-4d34-ad88-869b1ff4f9a1",
   "metadata": {},
   "outputs": [],
   "source": [
    "zipped = list(zip([1, 2, 3], [\"a\", \"b\", \"c\"]))"
   ]
  },
  {
   "cell_type": "code",
   "execution_count": 23,
   "id": "a603d1b1-0ac0-4638-b527-d8a91432723d",
   "metadata": {},
   "outputs": [],
   "source": [
    "index_50 = [10, 20, 30, 40, 50].index(50)"
   ]
  },
  {
   "cell_type": "code",
   "execution_count": 24,
   "id": "fab22332-072d-4cd9-8189-331dc75a6fea",
   "metadata": {},
   "outputs": [],
   "source": [
    "names = [\"Alice\", \"Bob\", \"Charlie\", \"David\"]\n",
    "names.sort()"
   ]
  },
  {
   "cell_type": "code",
   "execution_count": 25,
   "id": "3c31af72-115b-403e-a9d5-3275f3dba331",
   "metadata": {},
   "outputs": [],
   "source": [
    "def find_max(lst):\n",
    "    return max(lst)"
   ]
  },
  {
   "cell_type": "code",
   "execution_count": 26,
   "id": "8ef80c1b-aa38-4364-8ca2-f562790167fe",
   "metadata": {},
   "outputs": [],
   "source": [
    "fruits = [\"apple\", \"banana\", \"apple\", \"orange\"]\n",
    "apple_count = fruits.count(\"apple\")"
   ]
  },
  {
   "cell_type": "code",
   "execution_count": 27,
   "id": "d3542dea-2330-4731-a196-d1eb72b51ffc",
   "metadata": {},
   "outputs": [],
   "source": [
    "person = {\"name\": \"Alice\", \"age\": 25, \"city\": \"New York\"}\n",
    "city_value = person[\"city\"]"
   ]
  },
  {
   "cell_type": "code",
   "execution_count": null,
   "id": "ae798f99-3445-442a-b9eb-f37926640b51",
   "metadata": {},
   "outputs": [],
   "source": [
    "def list_intersection(lst1, lst2):\n",
    "    return list(set(lst1) & set(lst2))"
   ]
  },
  {
   "cell_type": "code",
   "execution_count": 28,
   "id": "2de26051-46b5-402d-b106-10723c23e54b",
   "metadata": {},
   "outputs": [],
   "source": [
    "def square_gen():\n",
    "    for i in range(1, 11):\n",
    "        yield i ** 2"
   ]
  },
  {
   "cell_type": "code",
   "execution_count": 29,
   "id": "b969dc12-6678-4f39-b959-c7439d0ad3a3",
   "metadata": {},
   "outputs": [],
   "source": [
    "def sum_dict_values(d):\n",
    "    return sum(d.values())"
   ]
  },
  {
   "cell_type": "code",
   "execution_count": 30,
   "id": "1c589647-1459-42d1-8482-c017d9bc591b",
   "metadata": {},
   "outputs": [],
   "source": [
    "sorted_list = sorted([3, 1, 4, 1, 5, 9])"
   ]
  },
  {
   "cell_type": "code",
   "execution_count": 31,
   "id": "81716aba-3cba-4a9e-be14-e021afbfd2c4",
   "metadata": {},
   "outputs": [],
   "source": [
    "all_positive = all(x > 0 for x in [1, 2, 3, 4, 5])"
   ]
  },
  {
   "cell_type": "code",
   "execution_count": 32,
   "id": "b9521c05-c13e-40aa-828b-d05958694cab",
   "metadata": {},
   "outputs": [],
   "source": [
    "squares_tuples = [(i, i**2) for i in range(1, 6)]"
   ]
  },
  {
   "cell_type": "code",
   "execution_count": 33,
   "id": "09a5a6cd-bd83-4a63-b65b-96226d646b00",
   "metadata": {},
   "outputs": [],
   "source": [
    "def get_seconds(tuples):\n",
    "    return [t[1] for t in tuples]"
   ]
  },
  {
   "cell_type": "code",
   "execution_count": 34,
   "id": "124c5871-fd8e-4e5f-8ab8-765f847a93c3",
   "metadata": {},
   "outputs": [],
   "source": [
    "def flatten_list(nested):\n",
    "    return [item for sublist in nested for item in sublist]"
   ]
  },
  {
   "cell_type": "code",
   "execution_count": 35,
   "id": "2ce5e180-2ef7-4180-9ff9-634289763359",
   "metadata": {},
   "outputs": [
    {
     "name": "stdout",
     "output_type": "stream",
     "text": [
      "0 apple\n",
      "1 banana\n",
      "2 cherry\n"
     ]
    }
   ],
   "source": [
    "for i, value in enumerate([\"apple\", \"banana\", \"cherry\"]):\n",
    "    print(i, value)"
   ]
  },
  {
   "cell_type": "code",
   "execution_count": 36,
   "id": "9b1b03a6-6dbb-4467-bc79-d702a0c8308d",
   "metadata": {},
   "outputs": [],
   "source": [
    "def is_empty_tuple(t):\n",
    "    return len(t) == 0"
   ]
  },
  {
   "cell_type": "code",
   "execution_count": 37,
   "id": "40ba5b47-22b1-4187-a09e-b7b34c4708f7",
   "metadata": {},
   "outputs": [],
   "source": [
    "even_numbers = list(range(2, 21, 2))"
   ]
  },
  {
   "cell_type": "code",
   "execution_count": 38,
   "id": "626382d5-9e76-4459-9df5-02a0997dac4a",
   "metadata": {},
   "outputs": [],
   "source": [
    "def reverse_list(lst):\n",
    "    return lst[::-1]"
   ]
  },
  {
   "cell_type": "code",
   "execution_count": 39,
   "id": "452297b1-1fc8-4118-9603-337882661502",
   "metadata": {},
   "outputs": [],
   "source": [
    "cubes_dict = {i: i**3 for i in range(1, 6)}"
   ]
  },
  {
   "cell_type": "code",
   "execution_count": 40,
   "id": "3fa57bb4-541b-471e-875d-2a43586d0490",
   "metadata": {},
   "outputs": [],
   "source": [
    "unique_elements = list(set([1, 2, 2, 3, 4, 4, 5]))"
   ]
  },
  {
   "cell_type": "code",
   "execution_count": 41,
   "id": "0fb40dfc-8777-4364-9afe-d351fe4c6581",
   "metadata": {},
   "outputs": [],
   "source": [
    "def fibonacci_gen(n):\n",
    "    a, b = 0, 1\n",
    "    for _ in range(n):\n",
    "        yield a\n",
    "        a, b = b, a + b"
   ]
  },
  {
   "cell_type": "code",
   "execution_count": 42,
   "id": "83fae253-344f-4286-ae6b-0152040e6ab4",
   "metadata": {},
   "outputs": [],
   "source": [
    "def unique_chars(s):\n",
    "    return list(set(s))"
   ]
  },
  {
   "cell_type": "code",
   "execution_count": 43,
   "id": "982c2f9c-bc6a-4ba3-b23c-a9813ae01607",
   "metadata": {},
   "outputs": [],
   "source": [
    "filtered = list(filter(lambda x: x % 2 == 0, [1, 2, 3, 4, 5, 6]))"
   ]
  },
  {
   "cell_type": "code",
   "execution_count": 44,
   "id": "174a40b5-4747-41e9-9092-a2395892d3f6",
   "metadata": {},
   "outputs": [],
   "source": [
    "tuple_list = [(1, 2), (3, 4), (5, 6)]\n",
    "converted_dict = dict(tuple_list)"
   ]
  },
  {
   "cell_type": "code",
   "execution_count": 45,
   "id": "8e8ebcb7-deb4-4a65-a8e1-8238881805bf",
   "metadata": {},
   "outputs": [],
   "source": [
    "def common_elements(l1, l2, l3):\n",
    "    return list(set(l1) & set(l2) & set(l3))"
   ]
  },
  {
   "cell_type": "code",
   "execution_count": 46,
   "id": "af1cbb5a-9706-4431-8f8a-059eb60757af",
   "metadata": {},
   "outputs": [],
   "source": [
    "def factorial(n):\n",
    "    return 1 if n == 0 else n * factorial(n - 1)"
   ]
  },
  {
   "cell_type": "code",
   "execution_count": 47,
   "id": "edc14e55-69a9-43dc-b6e8-79a44c6b4b6b",
   "metadata": {},
   "outputs": [],
   "source": [
    "cleaned_list = [x for x in [\"apple\", \"\", \"banana\", \"\", \"cherry\"] if x]"
   ]
  },
  {
   "cell_type": "code",
   "execution_count": 48,
   "id": "22242002-1716-4a1a-b351-6e935bf55087",
   "metadata": {},
   "outputs": [],
   "source": [
    "def even_numbers(lst):\n",
    "    return [x for x in lst if x % 2 == 0]"
   ]
  },
  {
   "cell_type": "code",
   "execution_count": 49,
   "id": "82249211-c596-489a-a4b3-45b5db35718b",
   "metadata": {},
   "outputs": [],
   "source": [
    "def remove_duplicates_ordered(lst):\n",
    "    seen = set()\n",
    "    result = []\n",
    "    for item in lst:\n",
    "        if item not in seen:\n",
    "            result.append(item)\n",
    "            seen.add(item)\n",
    "    return result\n"
   ]
  },
  {
   "cell_type": "code",
   "execution_count": 50,
   "id": "641014d1-2f99-4982-ba37-dc4431d934f4",
   "metadata": {},
   "outputs": [],
   "source": [
    "string_lengths = list(map(len, [\"apple\", \"banana\", \"cherry\"]))"
   ]
  },
  {
   "cell_type": "code",
   "execution_count": 81,
   "id": "e30ce996-c569-4f94-9d8b-964d8a1d0667",
   "metadata": {},
   "outputs": [],
   "source": [
    "def fibonacci_list(n):\n",
    "    result = []\n",
    "    a, b = 0, 1\n",
    "    for _ in range(n):\n",
    "        result.append(a)\n",
    "        a, b = b, a + b"
   ]
  },
  {
   "cell_type": "code",
   "execution_count": 82,
   "id": "a91fe78f-7938-4a24-9e44-b4aa77076363",
   "metadata": {},
   "outputs": [],
   "source": [
    "from collections import Counter\n",
    "element_counts = dict(Counter([\"apple\", \"banana\", \"apple\", \"cherry\"]))"
   ]
  },
  {
   "cell_type": "code",
   "execution_count": 83,
   "id": "538c59d4-a76e-4769-bf68-99932909aad4",
   "metadata": {},
   "outputs": [],
   "source": [
    "def remove_value(lst, value):\n",
    "    return [x for x in lst if x != value]"
   ]
  },
  {
   "cell_type": "code",
   "execution_count": 84,
   "id": "b6f37e95-a39f-4bd5-802b-ebc99b4757e7",
   "metadata": {},
   "outputs": [],
   "source": [
    "def set_intersection(s1, s2):\n",
    "    return s1 & s2"
   ]
  },
  {
   "cell_type": "code",
   "execution_count": 85,
   "id": "494e8208-877d-4c55-88f9-984e40547a44",
   "metadata": {},
   "outputs": [],
   "source": [
    "def flatten_nested_list(nested):\n",
    "    from collections.abc import Iterable\n",
    "    for item in nested:\n",
    "        if isinstance(item, Iterable) and not isinstance(item, (str, bytes)):\n",
    "            yield from flatten_nested_list(item)\n",
    "        else:\n",
    "            yield item"
   ]
  },
  {
   "cell_type": "code",
   "execution_count": 86,
   "id": "202f426c-2430-48d5-9e35-3d248e20a9d4",
   "metadata": {},
   "outputs": [],
   "source": [
    "def all_unique(lst):\n",
    "    return len(lst) == len(set(lst))"
   ]
  },
  {
   "cell_type": "code",
   "execution_count": 87,
   "id": "36199344-c618-4518-8cb3-4f60902b70bd",
   "metadata": {},
   "outputs": [],
   "source": [
    "def string_length_dict(lst):\n",
    "    return {s: len(s) for s in lst}"
   ]
  },
  {
   "cell_type": "code",
   "execution_count": 88,
   "id": "c3780341-ac52-4255-9c01-6e2679aaed2c",
   "metadata": {},
   "outputs": [],
   "source": [
    "def count_vowels(s):\n",
    "    return sum(1 for c in s if c.lower() in 'aeiou')"
   ]
  },
  {
   "cell_type": "code",
   "execution_count": 89,
   "id": "0e520770-0542-467a-896f-f418cc39fe5f",
   "metadata": {},
   "outputs": [],
   "source": [
    "def factorial_tuples():\n",
    "    return [(i, factorial(i)) for i in range(1, 6)]"
   ]
  },
  {
   "cell_type": "code",
   "execution_count": 90,
   "id": "9f6d6416-d5c6-4432-9b2b-a7beab86cd76",
   "metadata": {},
   "outputs": [],
   "source": [
    "def is_subset(small, big):\n",
    "    return small <= big"
   ]
  },
  {
   "cell_type": "code",
   "execution_count": 91,
   "id": "579bc479-d392-4722-9ee9-9ec49fb0bbe1",
   "metadata": {},
   "outputs": [],
   "source": [
    "def positive_integers(lst):\n",
    "    return [x for x in lst if x > 0]"
   ]
  },
  {
   "cell_type": "code",
   "execution_count": 92,
   "id": "0db8ac96-54f8-47bd-abcf-129d15ea503e",
   "metadata": {},
   "outputs": [],
   "source": [
    "def union_sets(s1, s2):\n",
    "    return s1 | s2"
   ]
  },
  {
   "cell_type": "code",
   "execution_count": 93,
   "id": "189a2ba8-69b3-4a8b-a455-bd5fa38c1051",
   "metadata": {},
   "outputs": [],
   "source": [
    "def product_of_list(lst):\n",
    "    return reduce(mul, lst, 1)"
   ]
  },
  {
   "cell_type": "code",
   "execution_count": 94,
   "id": "4062d7b7-3ecd-468a-a5e5-bb5e58ad6483",
   "metadata": {},
   "outputs": [],
   "source": [
    "char_list = ['H', 'e', 'l', 'l', 'o']\n",
    "string_result = ''.join(char_list)"
   ]
  },
  {
   "cell_type": "code",
   "execution_count": 95,
   "id": "1bcf9be2-5386-4175-b4e9-738add18b7d6",
   "metadata": {},
   "outputs": [],
   "source": [
    "def sorted_dict_keys(d):\n",
    "    return sorted(d.keys())"
   ]
  },
  {
   "cell_type": "code",
   "execution_count": 96,
   "id": "1417008a-9d0e-4d48-9962-d47e2d036dc5",
   "metadata": {},
   "outputs": [],
   "source": [
    "from collections import Counter\n",
    "\n",
    "def most_common_element(lst):\n",
    "    return Counter(lst).most_common(1)[0][0] if lst else None"
   ]
  },
  {
   "cell_type": "code",
   "execution_count": 97,
   "id": "09fa79bb-91f1-4b34-b381-57ac14a58994",
   "metadata": {},
   "outputs": [],
   "source": [
    "def sort_tuples_by_first(tuples):\n",
    "    return sorted(tuples, key=lambda x: x[0])"
   ]
  },
  {
   "cell_type": "code",
   "execution_count": 98,
   "id": "9156a0d4-3ba9-404d-b2d0-bd652a40d2a0",
   "metadata": {},
   "outputs": [],
   "source": [
    "def remove_duplicate_dicts(lst):\n",
    "    seen = set()\n",
    "    result = []\n",
    "    for d in lst:\n",
    "        t = tuple(sorted(d.items()))\n",
    "        if t not in seen:\n",
    "            seen.add(t)\n",
    "            result.append(d)\n",
    "    return result"
   ]
  },
  {
   "cell_type": "code",
   "execution_count": 99,
   "id": "94c09575-0fa9-4cf2-9064-817520bc1f07",
   "metadata": {},
   "outputs": [],
   "source": [
    "def min_max(lst):\n",
    "    return (min(lst), max(lst)) if lst else (None, None)"
   ]
  },
  {
   "cell_type": "code",
   "execution_count": 100,
   "id": "722d2d82-543d-43a2-ae0f-4cba9b973444",
   "metadata": {},
   "outputs": [],
   "source": [
    "def reverse_strings(lst):\n",
    "    return lst[::-1]"
   ]
  },
  {
   "cell_type": "code",
   "execution_count": 101,
   "id": "6b30c39d-01ea-4f00-a43b-6b5116754fe3",
   "metadata": {},
   "outputs": [],
   "source": [
    "def sum_odds(lst):\n",
    "    return sum(x for x in lst if x % 2 != 0)"
   ]
  },
  {
   "cell_type": "code",
   "execution_count": 102,
   "id": "3e8cf49a-58a1-48bb-a9b9-c198fdabde64",
   "metadata": {},
   "outputs": [],
   "source": [
    "def is_palindrome(s):\n",
    "    return s == s[::-1]"
   ]
  },
  {
   "cell_type": "code",
   "execution_count": 103,
   "id": "5fb3fee0-e3c6-4582-883d-f5c1d2e3955c",
   "metadata": {},
   "outputs": [],
   "source": [
    "def sum_of_squares(lst):\n",
    "    return sum(x**2 for x in lst)"
   ]
  },
  {
   "cell_type": "code",
   "execution_count": 104,
   "id": "09587854-a378-4ab1-81be-d14eb822add4",
   "metadata": {},
   "outputs": [],
   "source": [
    "cubes = [(i, i**3) for i in range(1, 6)]"
   ]
  },
  {
   "cell_type": "code",
   "execution_count": 105,
   "id": "fbb7643f-39fb-44f1-8d12-39295a26716b",
   "metadata": {},
   "outputs": [],
   "source": [
    "def common_keys(d1, d2):\n",
    "    return list(d1.keys() & d2.keys())"
   ]
  },
  {
   "cell_type": "code",
   "execution_count": 106,
   "id": "1578439e-6f21-41f2-a4da-b2dd87874f46",
   "metadata": {},
   "outputs": [],
   "source": [
    "def strings_longer_than_5(lst):\n",
    "    return [s for s in lst if len(s) > 5]"
   ]
  },
  {
   "cell_type": "code",
   "execution_count": 107,
   "id": "f6b89535-8f12-4596-856d-e17863e6b04d",
   "metadata": {},
   "outputs": [],
   "source": [
    "def strings_with_length(lst):\n",
    "    return [(s, len(s)) for s in lst]"
   ]
  },
  {
   "cell_type": "code",
   "execution_count": 108,
   "id": "ed1289a1-87bd-4b54-91ce-869e9a3d4ac9",
   "metadata": {},
   "outputs": [],
   "source": [
    "def sum_dicts(dicts):\n",
    "    result = {}\n",
    "    for d in dicts:\n",
    "        for k, v in d.items():\n",
    "            result[k] = result.get(k, 0) + v\n",
    "    return result"
   ]
  },
  {
   "cell_type": "code",
   "execution_count": null,
   "id": "c0efd7a8-ba36-4841-93b0-dcf60789bf08",
   "metadata": {},
   "outputs": [],
   "source": []
  }
 ],
 "metadata": {
  "kernelspec": {
   "display_name": "Python [conda env:base] *",
   "language": "python",
   "name": "conda-base-py"
  },
  "language_info": {
   "codemirror_mode": {
    "name": "ipython",
    "version": 3
   },
   "file_extension": ".py",
   "mimetype": "text/x-python",
   "name": "python",
   "nbconvert_exporter": "python",
   "pygments_lexer": "ipython3",
   "version": "3.12.7"
  }
 },
 "nbformat": 4,
 "nbformat_minor": 5
}
