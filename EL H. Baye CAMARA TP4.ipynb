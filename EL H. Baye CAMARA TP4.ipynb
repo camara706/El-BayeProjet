{
 "cells": [
  {
   "cell_type": "code",
   "execution_count": 34,
   "id": "85f14a9d-1678-427e-a206-91850c5554dc",
   "metadata": {},
   "outputs": [
    {
     "name": "stdin",
     "output_type": "stream",
     "text": [
      "Enter a number:  4\n"
     ]
    },
    {
     "name": "stdout",
     "output_type": "stream",
     "text": [
      "the number est positive.\n"
     ]
    }
   ],
   "source": [
    "# Exercise 1\n",
    "a = float(input(\"Enter a number: \"))\n",
    "\n",
    "if a >0 :\n",
    "     print(\"the number est positive.\")\n",
    "elif a < 0:\n",
    "     print(\"the number est negative.\")\n",
    "else:\n",
    "    print(\"the number is zero.\")"
   ]
  },
  {
   "cell_type": "code",
   "execution_count": 14,
   "id": "aada087c-7b57-4c2a-9f11-6936a04b91f7",
   "metadata": {},
   "outputs": [],
   "source": [
    "# Exercise 2\n",
    "\n",
    "def starts_with_vowel(word):\n",
    "    vowels = 'abcEFG'\n",
    "    if word and word[0] in vowels:\n",
    "        return True\n",
    "    else:\n",
    "        return False"
   ]
  },
  {
   "cell_type": "code",
   "execution_count": 11,
   "id": "7a8741bf-6bf4-4fbe-ac20-fe6da0e7ee45",
   "metadata": {},
   "outputs": [
    {
     "name": "stdout",
     "output_type": "stream",
     "text": [
      "1 is Odd\n",
      "2 is Even\n",
      "3 is Odd\n",
      "4 is Even\n",
      "5 is Odd\n",
      "6 is Even\n"
     ]
    }
   ],
   "source": [
    "# Exercise 3\n",
    "\n",
    "numbers = [1, 2, 3, 4, 5, 6]\n",
    "\n",
    "for n in numbers:\n",
    "    if n % 2 ==0:\n",
    "        print(f\"{n} is Even\")\n",
    "    else:\n",
    "        print(f\"{n} is Odd\")"
   ]
  },
  {
   "cell_type": "code",
   "execution_count": 53,
   "id": "2d4f5ba4-232b-4981-8e3d-9ba4177c1617",
   "metadata": {},
   "outputs": [
    {
     "name": "stdin",
     "output_type": "stream",
     "text": [
      "Enter a year:  4\n"
     ]
    },
    {
     "name": "stdout",
     "output_type": "stream",
     "text": [
      "4 is a leap year.\n"
     ]
    }
   ],
   "source": [
    "# Exercise 4\n",
    "\n",
    "year = int(input(\"Enter a year: \"))\n",
    "if (year % 4 == 0 and year % 100 != 0) or (year % 400 == 0):\n",
    "    print(f\"{year} is a leap year.\")\n",
    "else:\n",
    "    print(f\"{year} is not a leap year.\")\n"
   ]
  },
  {
   "cell_type": "code",
   "execution_count": 64,
   "id": "d6d901af-cee9-4714-9c0e-6bab3808b5e6",
   "metadata": {},
   "outputs": [],
   "source": [
    "# Exercise 5\n",
    "\n",
    "def divisible_by_3_and_5(num):\n",
    "    if num % 3 == 0 and num % 5 == 0:\n",
    "        return true \n",
    "    else:\n",
    "        return false"
   ]
  },
  {
   "cell_type": "code",
   "execution_count": null,
   "id": "3fb41ab1-867b-4f62-bb1f-323da7b1572f",
   "metadata": {},
   "outputs": [],
   "source": []
  },
  {
   "cell_type": "code",
   "execution_count": 3,
   "id": "bd14c149-692b-4abf-a0f4-4e1407d8a00f",
   "metadata": {},
   "outputs": [],
   "source": [
    "# Exercise 7\n",
    "\n",
    "def contains_a(s):\n",
    "    return 'a' in s"
   ]
  },
  {
   "cell_type": "code",
   "execution_count": 4,
   "id": "69d458a6-c782-4f6a-81e9-c0ba03d5df99",
   "metadata": {},
   "outputs": [],
   "source": [
    "# Exercise 8\n",
    "\n",
    "def compare_numbers(a, b):\n",
    "    if a == b:\n",
    "        return \"Equal\"\n",
    "    elif a > b:\n",
    "        return \"First is larger\"\n",
    "    else:\n",
    "        return \"Second is larger\""
   ]
  },
  {
   "cell_type": "code",
   "execution_count": 5,
   "id": "1200cd05-7a6e-4f79-ad36-6988b6611c1d",
   "metadata": {},
   "outputs": [],
   "source": [
    "# Exercise 9\n",
    "\n",
    "def is_list_empty(lst):\n",
    "    return len(lst) == 0"
   ]
  },
  {
   "cell_type": "code",
   "execution_count": 59,
   "id": "96b555a8-daec-47de-9e00-299fe228a035",
   "metadata": {},
   "outputs": [],
   "source": [
    "# Exercice 10\n",
    "\n",
    "def are_anagrams(str1, str2):\n",
    "    sorted(str1) == sorted(str2)\n",
    "    return (sorted(str1)) "
   ]
  },
  {
   "cell_type": "code",
   "execution_count": 7,
   "id": "3ae038e4-ce48-42d6-82c8-7a25551154c0",
   "metadata": {},
   "outputs": [],
   "source": [
    "# Exercise 11\n",
    "\n",
    "def is_prime(n):\n",
    "    if n <= 1:\n",
    "        return False\n",
    "    for i in range(2, int(n**0.5) + 1):\n",
    "        if n % i == 0:\n",
    "            return False\n",
    "    return True"
   ]
  },
  {
   "cell_type": "code",
   "execution_count": 8,
   "id": "ad238a81-0ed7-4387-827d-53e1f8e70399",
   "metadata": {},
   "outputs": [],
   "source": [
    "# Exercice 12\n",
    "\n",
    "def is_sorted_ascending(lst):\n",
    "    return lst == sorted(lst)"
   ]
  },
  {
   "cell_type": "code",
   "execution_count": 9,
   "id": "51b6d8b1-7c58-401b-a72b-77b981690b5d",
   "metadata": {},
   "outputs": [],
   "source": [
    "# Exercise 13\n",
    "\n",
    "def is_digit(c):\n",
    "    return c.isdigit()"
   ]
  },
  {
   "cell_type": "code",
   "execution_count": 10,
   "id": "4d321c6b-0b89-4d03-9cd9-d3289c416dbd",
   "metadata": {},
   "outputs": [],
   "source": [
    "# Exercise 14\n",
    "\n",
    "def is_all_uppercase(s):\n",
    "    return s.isupper()"
   ]
  },
  {
   "cell_type": "code",
   "execution_count": 12,
   "id": "ab57edb7-1cbe-44a2-bbee-a4fa2883ea4a",
   "metadata": {},
   "outputs": [],
   "source": [
    "# Exercise 15\n",
    "\n",
    "def is_multiple_of_10(n):\n",
    "    return n % 10 == 0"
   ]
  },
  {
   "cell_type": "code",
   "execution_count": 13,
   "id": "8e306739-c801-451a-ae52-e90583384d8b",
   "metadata": {},
   "outputs": [],
   "source": [
    "# Exercise 16\n",
    "\n",
    "def has_duplicates(lst):\n",
    "    return len(lst) != len(set(lst))"
   ]
  },
  {
   "cell_type": "code",
   "execution_count": 15,
   "id": "de5c6625-422c-487f-96d9-78b427618b05",
   "metadata": {},
   "outputs": [],
   "source": [
    "# Exercise 19\n",
    "\n",
    "def even_or_odd(n):\n",
    "    if n % 2 == 0:\n",
    "        return \"Even\" \n",
    "    else:\n",
    "        return \"Odd\""
   ]
  },
  {
   "cell_type": "code",
   "execution_count": 18,
   "id": "8584fa03-d977-481f-a2ae-5955f3da8700",
   "metadata": {},
   "outputs": [],
   "source": [
    "# Exercise 21\n",
    "\n",
    "def check_range(n):\n",
    "    if 1 <= n <= 100:\n",
    "        print(\"Yes\")  \n",
    "    else:\n",
    "        print(\"No\")\n"
   ]
  },
  {
   "cell_type": "code",
   "execution_count": 21,
   "id": "157a2a86-917b-4944-96b8-41dfe5739800",
   "metadata": {},
   "outputs": [],
   "source": [
    "# Exercise 22\n",
    "\n",
    "def same_length(s1, s2):\n",
    "    len(s1) == len(s2)\n",
    "    return (len(s1))"
   ]
  },
  {
   "cell_type": "code",
   "execution_count": 22,
   "id": "4e77a4db-96b3-45d8-bfbe-a1ac6f76cf30",
   "metadata": {},
   "outputs": [],
   "source": [
    "# Exercise 23\n",
    "\n",
    "def is_greater_than_reverse(n):\n",
    "    reversed_n = int(str(n)[::-1])\n",
    "    return n > reversed_n"
   ]
  },
  {
   "cell_type": "code",
   "execution_count": 23,
   "id": "aa34bbc8-9efd-47db-81cd-d184d127f880",
   "metadata": {},
   "outputs": [],
   "source": [
    "# Exercise 25\n",
    "\n",
    "def is_between(n, low, high):\n",
    "    return low < n < high"
   ]
  },
  {
   "cell_type": "code",
   "execution_count": 24,
   "id": "1e39b377-6519-4973-9624-56340d51ab41",
   "metadata": {},
   "outputs": [],
   "source": [
    "# Exercise 26\n",
    "\n",
    "def all_unique(s):\n",
    "    return len(set(s)) == len(s)"
   ]
  },
  {
   "cell_type": "code",
   "execution_count": 25,
   "id": "5b602168-c9ea-4db2-82ba-d6a202fc2148",
   "metadata": {},
   "outputs": [],
   "source": [
    "# Exercise 29\n",
    "\n",
    "def fizzbuzz(n):\n",
    "    if n % 15 == 0:\n",
    "        print(\"FizzBuzz\")\n",
    "    elif n % 3 == 0:\n",
    "        print(\"Fizz\")\n",
    "    elif n % 5 == 0:\n",
    "        print(\"Buzz\")"
   ]
  },
  {
   "cell_type": "code",
   "execution_count": 26,
   "id": "ad7eb843-6e53-4937-a704-386e8e93c9c5",
   "metadata": {},
   "outputs": [],
   "source": [
    "# Exercise 30\n",
    "\n",
    "def is_digit_sum_even(n):\n",
    "    return sum(int(d) for d in str(n)) % 2 == 0"
   ]
  },
  {
   "cell_type": "code",
   "execution_count": 27,
   "id": "f8b3c7d4-0c5b-4de1-aeaf-fd4d746f81cb",
   "metadata": {},
   "outputs": [],
   "source": [
    "# Exercise 34\n",
    "\n",
    "def all_even(lst):\n",
    "    return all(x % 2 == 0 for x in lst)"
   ]
  },
  {
   "cell_type": "code",
   "execution_count": 28,
   "id": "0f471843-8fb0-464d-9f9c-c18d8b315acc",
   "metadata": {},
   "outputs": [],
   "source": [
    "# Exercise 35\n",
    "\n",
    "def is_longer_than(word, length):\n",
    "    return len(word) > length"
   ]
  },
  {
   "cell_type": "code",
   "execution_count": 29,
   "id": "6a85da06-a08a-4afe-bb41-90e0adbe29fd",
   "metadata": {},
   "outputs": [],
   "source": [
    "# Exercise 36\n",
    "\n",
    "def all_positive(lst):\n",
    "    return all(x > 0 for x in lst)"
   ]
  },
  {
   "cell_type": "code",
   "execution_count": 69,
   "id": "27947019-ab63-4416-b04d-99a36cf9b2f1",
   "metadata": {},
   "outputs": [],
   "source": [
    "# Exercise 38\n",
    "\n",
    "def sum_greater_than_100(lst):\n",
    "    sum(lst) > 100\n",
    "    return (sum(lst))"
   ]
  },
  {
   "cell_type": "code",
   "execution_count": 36,
   "id": "65c27f5b-66fa-4d31-badb-d54ccf4441de",
   "metadata": {},
   "outputs": [],
   "source": [
    "# Exercise 39\n",
    "\n",
    "def is_substring(word, text):\n",
    "    return (word in text)"
   ]
  },
  {
   "cell_type": "code",
   "execution_count": 41,
   "id": "4177aa2e-d092-488c-8bd3-dc5d86bf36b7",
   "metadata": {},
   "outputs": [],
   "source": [
    "# Exercise 42\n",
    "\n",
    "def divisible_by_2_and_3(n):\n",
    "    if n % 2 == 0 and n % 3 == 0:\n",
    "        print(\"Yes\")  \n",
    "    else: \n",
    "        print(\"No\")"
   ]
  },
  {
   "cell_type": "code",
   "execution_count": 42,
   "id": "7fe9d8bf-0141-4228-88f2-e1f79ae3e6e8",
   "metadata": {},
   "outputs": [],
   "source": [
    "# Exercise 46\n",
    "\n",
    "def divisible_by_any(n, lst):\n",
    "    return any(n % x == 0 for x in lst)"
   ]
  },
  {
   "cell_type": "code",
   "execution_count": 43,
   "id": "ca135f46-c53f-442f-ba47-409d705bbe13",
   "metadata": {},
   "outputs": [],
   "source": [
    "# Exercise 44\n",
    "\n",
    "def is_all_lowercase(s):\n",
    "    return s.islower()"
   ]
  },
  {
   "cell_type": "code",
   "execution_count": 66,
   "id": "87cd1d4b-cd94-42b0-863b-d484fd809bbf",
   "metadata": {},
   "outputs": [],
   "source": [
    "# Exercise 47\n",
    "\n",
    "from collections import Counter\n",
    "\n",
    "def has_duplicate_letters(s):\n",
    "    counter = Counter(s)\n",
    "    if any(v > 1 for v in counter.values()):\n",
    "       print(\"Yes\") \n",
    "    else: \n",
    "       print(\"No\")"
   ]
  },
  {
   "cell_type": "code",
   "execution_count": 67,
   "id": "b0d78f44-6622-4be4-9424-070a0ee48455",
   "metadata": {},
   "outputs": [],
   "source": [
    "# Exercise 50\n",
    "\n",
    "def check_in_range(n):\n",
    "   if 10 <= n <= 20:\n",
    "       print(\"In range\")\n",
    "   else: \n",
    "          print(\"Out of range\")"
   ]
  },
  {
   "cell_type": "code",
   "execution_count": 65,
   "id": "dab88bba-4253-4360-9113-f5d6dea58b8d",
   "metadata": {},
   "outputs": [],
   "source": [
    "# Exercise 45\n",
    "\n",
    "def starts_with(s, prefix):\n",
    "    return s.startswith(prefix)"
   ]
  },
  {
   "cell_type": "code",
   "execution_count": null,
   "id": "1437527a-47a0-4cd4-9fff-b8595658b3f9",
   "metadata": {},
   "outputs": [],
   "source": []
  }
 ],
 "metadata": {
  "kernelspec": {
   "display_name": "Python [conda env:base] *",
   "language": "python",
   "name": "conda-base-py"
  },
  "language_info": {
   "codemirror_mode": {
    "name": "ipython",
    "version": 3
   },
   "file_extension": ".py",
   "mimetype": "text/x-python",
   "name": "python",
   "nbconvert_exporter": "python",
   "pygments_lexer": "ipython3",
   "version": "3.12.7"
  }
 },
 "nbformat": 4,
 "nbformat_minor": 5
}
